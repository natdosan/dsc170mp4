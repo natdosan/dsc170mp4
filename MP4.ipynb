{
 "cells": [
  {
   "cell_type": "markdown",
   "metadata": {},
   "source": [
    "--------------------------------------------------------------------------------------\n",
    "\n",
    "* Team member names: Nathaniel del Rosario\n",
    "* Team member IDs: A17562063\n",
    "\n",
    "--------------------------------------------------------------------------------------"
   ]
  },
  {
   "cell_type": "markdown",
   "metadata": {},
   "source": [
    "# Mini-project 4, DSC 170, Winter 2024\n",
    "\n",
    "# Suitability Modeling\n",
    "\n",
    "This project will focus on __suitability analysis__ with raster data. Your tasks will be both conceptual-level and technical. \n",
    "\n",
    "There are three parts to this assignment.\n",
    "\n",
    "1. At the conceptual level, you will define a suitability model of your choice, for an area of your choice (preferably San Diego, because we already have worked with some local data). Consult the lectures on map combination, and also see https://pro.arcgis.com/en/pro-app/latest/help/analysis/spatial-analyst/suitability-modeler/the-general-suitability-modeling-workflow.htm for a brief description of what a suitability model is. For example, you may be looking for best areas for community gardens. Such areas are often selected from underutilized land in residential land uses, with good soils, good drainage, accessible (not steep slope), etc. So you would be looking for areas with a specific type of land use/land cover, with an appropriate range of values of slope, etc. You may build additional criteria based on a range of precipitaiton values, whether the area is affected by wildfires, or has low levels of soil erosion, etc. Feel free to use the imagery layers we explored or mentioned during raster-focused lectures. Several cells in lecture notebooks contained URLs to imagery layer collections available through AGOL - but feel free to find more. Also, feel free to download additional raster layers from elsewhere (an example in lecture demonstrates how to do this from the USGS image repository, and also how to get Sentinel-2 from ESA), publish them on ArcGIS Enterprise, and use in your model. \n",
    "\n",
    "You can use any __two__ of the <i>map combination</i> techniques discussed during lectures. You should identify the ones you use and discuss any uncertainty issues associated with these specific map combination models. \n",
    "\n",
    "As the outcome of this part, you will need to: a) describe the suitability model you want to develop; b) identify the raster data layers you will use; and c) describe two of the map combination techniques you will use to derive the two suitablity maps, and their pros and cons.\n",
    "\n",
    "2. The second part will involve implementing your suitability model using arcgis raster functions. Many of these functions are new and experimental! Examples of what works are in the lecture notebooks. Be creative!    \n",
    "\n",
    "3. The third part will be a brief write-up comparing the two output rasters generated for the suitability models using the two map combination techniques. \n",
    "\n",
    "The notebook should include documentation of the steps, as usually.\n",
    "\n",
    "\n",
    "\n",
    "**Due Date: 03/04/2024 11:59PM (Pacific Time)**\n",
    "\n",
    "**Total Possible Points: 30 Pts**"
   ]
  },
  {
   "cell_type": "markdown",
   "metadata": {},
   "source": [
    "## Task 1: Formulate a suitability or risk model (5 points)"
   ]
  },
  {
   "cell_type": "markdown",
   "metadata": {},
   "source": [
    "Before finding a dataset, we will form our question in the following way:\n",
    "What are the best areas for _ / best areas that satisfy condition _ ?\n",
    "\n",
    "### Question:\n",
    "\n",
    "What are the best locations for new student housing in Berkeley?\n",
    "\n",
    "### Data\n",
    "- [Berkeley zoning data](https://data.cityofberkeley.info/browse?q=zoning&sortBy=relevance)\n",
    "- [Population By Council District](https://geodata.lib.berkeley.edu/catalog/berkeley-s7wq14)\n",
    "- [GeoData](https://geodata.lib.berkeley.edu/?utf8=%E2%9C%93&search_field=all_fields&q=berkeley)\n",
    "- [Alameda County Open Data](https://data.acgov.org/search?collection=Dataset&source=AlamedaCounty.CA.US)\n",
    "- [Fire Hazard Raster](https://ucsdonline.maps.arcgis.com/apps/mapviewer/index.html?layers=cdedfa4417f54ae0a274c78f7c9b8c8e)\n",
    "- [Census Tracts](https://data.census.gov/allq=alameda%20&t=Housing:Housing%20Units:Renter%20Costs&g=050XX00US06001$1400000)\n",
    "- [Berkeley Crime Data](https://ucsdonline.maps.arcgis.com/apps/mapviewer/index.html?webmap=9f67de4e3a0d49c39ae07034f5c32966)\n",
    "- [Berkeley Bus Routes](https://ucsdonline.maps.arcgis.com/apps/mapviewer/index.html?webmap=761a98de8a1a435aad5f229692c5d229)\n",
    "- [Berkeley Bike Lanes](https://ucsdonline.maps.arcgis.com/apps/mapviewer/index.html?layers=e1453a81e05f45dd9c44699c5b1a40b7)\n",
    "- [Berkeley Bike Parking](https://ucsdonline.maps.arcgis.com/apps/mapviewer/index.html?webmap=9fa9fa7139584d359a0542cc4561d427)\n",
    "\n",
    "### Important Features\n",
    "- Population density\n",
    "- Proximity to bike paths / bus routes\n",
    "- Is it in a heat island?\n",
    "- Proximity to frequent crime scenes \n"
   ]
  },
  {
   "cell_type": "markdown",
   "metadata": {},
   "source": [
    "## Task 2: Implement the model (20 points)"
   ]
  },
  {
   "cell_type": "code",
   "execution_count": 1,
   "metadata": {},
   "outputs": [],
   "source": [
    "# Imports, etc.\n",
    "import pandas as pd\n",
    "import numpy as np\n",
    "import geopandas as gpd\n",
    "import matplotlib.pyplot as plt\n",
    "from shapely.geometry import Point\n",
    "\n",
    "\n",
    "import arcgis\n",
    "from arcgis.gis import GIS\n",
    "from arcgis import geometry\n",
    "from arcgis.features import GeoAccessor, GeoSeriesAccessor, FeatureLayerCollection, FeatureSet, FeatureCollection, FeatureLayer\n",
    "from arcgis.features.use_proximity import create_buffers\n",
    "from arcgis.raster import ImageryLayer\n",
    "from IPython.display import display\n",
    "import os"
   ]
  },
  {
   "cell_type": "code",
   "execution_count": 2,
   "metadata": {},
   "outputs": [],
   "source": [
    "gis = GIS(\"https://ucsdonline.maps.arcgis.com/home/index.html\", \"dsc170wi24_8\", \"NDRCZBH@499!\")"
   ]
  },
  {
   "cell_type": "code",
   "execution_count": 3,
   "metadata": {},
   "outputs": [
    {
     "data": {
      "application/vnd.jupyter.widget-view+json": {
       "model_id": "6f74cc9cb2614a278e661c91a4a73e4e",
       "version_major": 2,
       "version_minor": 0
      },
      "text/plain": [
       "MapView(layout=Layout(height='400px', width='100%'))"
      ]
     },
     "metadata": {},
     "output_type": "display_data"
    },
    {
     "data": {
      "text/html": [
       "<div class=\"map-static-img-preview-d49ab993-832c-4e93-b47e-7ad53d8c0dc6\"><img src=\"\"></img></div>"
      ],
      "text/plain": [
       "<IPython.core.display.HTML object>"
      ]
     },
     "metadata": {},
     "output_type": "display_data"
    },
    {
     "data": {
      "text/html": [
       "<div class=\"map-html-embed-preview-d49ab993-832c-4e93-b47e-7ad53d8c0dc6\"></div>"
      ],
      "text/plain": [
       "<IPython.core.display.HTML object>"
      ]
     },
     "metadata": {},
     "output_type": "display_data"
    }
   ],
   "source": [
    "berkeley_map = gis.map('Berkeley, CA')\n",
    "berkeley_map"
   ]
  },
  {
   "cell_type": "code",
   "execution_count": 4,
   "metadata": {},
   "outputs": [],
   "source": [
    "# List imagery layers to be used in your model. \n",
    "# This cell should contian layer definitions.\n",
    "\n",
    "# fire risk raster\n",
    "fire_risk_raster = gis.content.get('6229ec92b2894b9ca718c9e7163bbd7b')\n",
    "\n",
    "# AC Transit Route, plus an additional bus route\n",
    "bus_routes1_fl = gis.content.get('1b6d51b614bd47a99efd60cb64ddcdc5')\n",
    "bus_routes2_fl = gis.content.get('aba7cd6ad57f4102a8af2264e29a5119')\n",
    "\n",
    "# crime data\n",
    "crime_fl = gis.content.get('8f4514aca02f417eb6004f03b832d6a9')\n",
    "\n",
    "# zoning layer\n",
    "zoning_fl = gis.content.get('9b6611b77cc047ea813ffe7346b1637a') # this is just here for visualization reference\n",
    "\n",
    "#item_properties = {\n",
    "#    \"type\": \"GeoJson\",\n",
    "#    \"title\": \"Berkeley Zoning Districts\"\n",
    "#}\n",
    "#geojson_item = gis.content.add(item_properties, 'ZoningDistricts.geojson')\n",
    "#zoning_layer = geojson_item.publish()\n",
    "#zoning_layer\n",
    "\n",
    "# Define the output  paths\n",
    "fire_risk_raster_path = \"/fire_risk_raster.tif\"\n",
    "bus_routes_raster_path = \"/bus_routes_raster.tif\"\n",
    "crime_data_raster_path = \"/crime_data_raster.tif\"\n",
    "zoning_raster_path = \"/zoning_raster.tif\""
   ]
  },
  {
   "cell_type": "code",
   "execution_count": 5,
   "metadata": {
    "scrolled": true
   },
   "outputs": [
    {
     "data": {
      "application/vnd.jupyter.widget-view+json": {
       "model_id": "6f74cc9cb2614a278e661c91a4a73e4e",
       "version_major": 2,
       "version_minor": 0
      },
      "text/plain": [
       "MapView(layout=Layout(height='400px', width='100%'))"
      ]
     },
     "metadata": {},
     "output_type": "display_data"
    },
    {
     "data": {
      "text/html": [
       "<div class=\"map-static-img-preview-d49ab993-832c-4e93-b47e-7ad53d8c0dc6\"><img src=\"\"></img></div>"
      ],
      "text/plain": [
       "<IPython.core.display.HTML object>"
      ]
     },
     "metadata": {},
     "output_type": "display_data"
    },
    {
     "data": {
      "text/html": [
       "<div class=\"map-html-embed-preview-d49ab993-832c-4e93-b47e-7ad53d8c0dc6\"></div>"
      ],
      "text/plain": [
       "<IPython.core.display.HTML object>"
      ]
     },
     "metadata": {},
     "output_type": "display_data"
    }
   ],
   "source": [
    "# play around until all layers show: there should be bus routes, blue zoning, and yellow-purple heatmap\n",
    "crime_fl.opacity = 0.8\n",
    "zoning_fl.opacity = 0.2\n",
    "bus_routes1_fl.opacity = 1\n",
    "bus_routes2_fl.opacity = 1\n",
    "berkeley_map.add_layer(crime_fl)\n",
    "berkeley_map.add_layer(zoning_fl)\n",
    "berkeley_map.add_layer(bus_routes1_fl)\n",
    "berkeley_map.add_layer(bus_routes2_fl)\n",
    "berkeley_map"
   ]
  },
  {
   "cell_type": "code",
   "execution_count": null,
   "metadata": {},
   "outputs": [],
   "source": [
    "# Convert Feature Layers to Rasters\n",
    "\n",
    "import rasterio\n",
    "from rasterio.features import rasterize\n",
    "\n",
    "bus_routes1_raster_path = \"/bus_routes1_raster.tif\"\n",
    "bus_routes2_raster_path = \"/bus_routes2_raster.tif\"\n",
    "crime_raster_path = \"/crime_raster.tif\"\n",
    "\n",
    "# Load feature layers as GeoDataFrames\n",
    "bus_routes1_fl = FeatureLayer('https://services1.arcgis.com/IYiCpZoSIq9lAxi8/ArcGIS/rest/services/MajorACTransitRoutes/FeatureServer/0')\n",
    "bus_routes2_fl = FeatureLayer(bus_routes2_fl.url)\n",
    "crime_fl = FeatureLayer('https://services.arcgis.com/P3ePLMYs2RVChkJx/ArcGIS/rest/services/ACS_Poverty_by_Age_Boundaries/FeatureServer/2')\n",
    "\n",
    "# Query from the feature layer\n",
    "bus_features1 = bus_routes1_fl.query()\n",
    "crime_features = crime_fl.query()\n",
    "\n",
    "# convert the features to a GeoDataFrame for raster \n",
    "bus_routes1_gdf = bus_features1.sdf\n",
    "crime_gdf = crime_features.sdf\n",
    "\n",
    "# crime_fl.url # 'https://ucsdonline.maps.arcgis.com/home/item.html?id=8f4514aca02f417eb6004f03b832d6a9&view=service'\n",
    "# zoning_fl.url : 'https://services1.arcgis.com/eGSDp8lpKe5izqVc/arcgis/rest/services/Berkeley_Zoning_Districts/FeatureServer'"
   ]
  },
  {
   "cell_type": "code",
   "execution_count": null,
   "metadata": {},
   "outputs": [],
   "source": [
    "xmin, ymin, xmax, ymax = bus_routes1_gdf.total_bounds\n",
    "resolution = 0.0001 \n",
    "\n",
    "# Rasterize each GeoDataFrame to create raster layers\n",
    "with rasterio.open('bus_routes1_raster.tif', 'w', driver='GTiff', width=1000, height=1000, count=1, dtype=rasterio.uint8, crs='EPSG:4326', transform=rasterio.transform.from_bounds(xmin, ymin, xmax, ymax, 1000, 1000)) as dst:\n",
    "    rasterize(\n",
    "        shapes=zip(bus_routes1_gdf.geometry, [1]*len(bus_routes1_gdf)),  # Convert all features to value 1\n",
    "        out_shape=(1000, 1000),\n",
    "        fill=0,\n",
    "        out=dst\n",
    "    )\n",
    "\n",
    "with rasterio.open('crime_raster.tif', 'w', driver='GTiff', width=1000, height=1000, count=1, dtype=rasterio.uint8, crs='EPSG:4326', transform=rasterio.transform.from_bounds(xmin, ymin, xmax, ymax, 1000, 1000)) as dst:\n",
    "    rasterize(\n",
    "        shapes=zip(crime_gdf.geometry, [1]*len(crime_gdf)),  # Convert all features to value 1\n",
    "        out_shape=(1000, 1000),\n",
    "        fill=0,\n",
    "        out=dst\n",
    "    )"
   ]
  },
  {
   "cell_type": "code",
   "execution_count": null,
   "metadata": {},
   "outputs": [],
   "source": [
    "# Derive the area of interest (AOI) and its geometry and extent. \n",
    "# The smaller the area the better (so that you don't run into raster size limitations)\n",
    "\n",
    "\"\"\"\n",
    "Crime Data Extent for AOI\n",
    "\n",
    "Initial Extent:\n",
    "XMin: -13241249.212925\n",
    "YMin: 3952298.35563141\n",
    "XMax: -12992551.4477593\n",
    "YMax: 4104580.15436044\n",
    "Spatial Reference: 102100 (3857)\n",
    "Full Extent:\n",
    "XMin: -19942592.3656\n",
    "YMin: 2023651.5978\n",
    "XMax: 20012846.0377\n",
    "YMax: 11537091.6297\n",
    "Spatial Reference: 102100 (3857)\n",
    "\"\"\""
   ]
  },
  {
   "cell_type": "markdown",
   "metadata": {},
   "source": [
    "## Typical steps for preparing a raster layer for suitability analysis:\n",
    " - retrieve the layer\n",
    " - specify area of interest (study area), e.g. by retrieving a named polygon and getting its extent in an explicit CRS\n",
    " - clip the layer to the area of interest\n",
    " - define categories to be shown in the output (these may be suitability classes) (make sure these classes actually exist)\n",
    " - define a colormap for these classes\n",
    " - remap the layer clip to these categories in this colormap\n",
    " "
   ]
  },
  {
   "cell_type": "markdown",
   "metadata": {},
   "source": [
    "### Name the two map combination techniques you will use to combine the data and describe their pros and cons"
   ]
  },
  {
   "cell_type": "markdown",
   "metadata": {},
   "source": [
    "Your text here "
   ]
  },
  {
   "cell_type": "code",
   "execution_count": null,
   "metadata": {},
   "outputs": [],
   "source": [
    "# Prepare your input layers for map combination: clip to AOI, remap/normalize, visualize the layers. "
   ]
  },
  {
   "cell_type": "code",
   "execution_count": null,
   "metadata": {},
   "outputs": [],
   "source": [
    "# Generate a composite raster layer for your first map combination technique\n",
    "# F1 = cumsum(layers) = fire_risk + crime_data \n"
   ]
  },
  {
   "cell_type": "code",
   "execution_count": null,
   "metadata": {},
   "outputs": [],
   "source": [
    "# Generate a composite raster layer for your second map combination technique\n",
    "# F2 = fire_risk + crime_data + lambda * bus_routes\n",
    "# the second function differs as we add another feature, bus_routes which is a 0 or 1 value:\n",
    "# if there is a bus route nearby, we add 1, else the score stays the same"
   ]
  },
  {
   "cell_type": "markdown",
   "metadata": {},
   "source": [
    "## Task 3: Compare the results (5 points)\n",
    "... and describe how different combination techniques resulted in different outputs (or not.) "
   ]
  },
  {
   "cell_type": "markdown",
   "metadata": {},
   "source": [
    "Since the functions were pretty similar, with one including bus route proximity and one not including bus route proximity, the only difference in outputs was in areas around bus routes, which had a higher score because they were not penalized for not being near bus routes. The second function therefore emphasized importance of this proximity to a bus route. In the scope of planning a new student housing, the reasoning for a function that excludes and includes bus route proximity is that some students may not bus to school/if the housing was within a few blocks to campus, the priority / need for a bus in this context would not really be important compared to housing that is farther (in this case, more West towards I-80 and Telegraph Ave & Beyond)"
   ]
  },
  {
   "cell_type": "code",
   "execution_count": null,
   "metadata": {},
   "outputs": [],
   "source": [
    "## Timekeeping\n",
    "# Please let us know how much time you spent on this project, in hours: \n",
    "# (we will only examine distributions and won't look at individual responses)\n",
    "\n",
    "assignment_timespent = 8 # mostly because I was having a lot of difficulty converting from FL to Raster"
   ]
  },
  {
   "cell_type": "code",
   "execution_count": null,
   "metadata": {},
   "outputs": [],
   "source": []
  }
 ],
 "metadata": {
  "kernelspec": {
   "display_name": "Python 3 (ipykernel)",
   "language": "python",
   "name": "python3"
  },
  "language_info": {
   "codemirror_mode": {
    "name": "ipython",
    "version": 3
   },
   "file_extension": ".py",
   "mimetype": "text/x-python",
   "name": "python",
   "nbconvert_exporter": "python",
   "pygments_lexer": "ipython3",
   "version": "3.9.5"
  },
  "toc": {
   "base_numbering": 1,
   "nav_menu": {},
   "number_sections": false,
   "sideBar": true,
   "skip_h1_title": true,
   "title_cell": "Table of Contents",
   "title_sidebar": "Contents",
   "toc_cell": false,
   "toc_position": {},
   "toc_section_display": true,
   "toc_window_display": true
  }
 },
 "nbformat": 4,
 "nbformat_minor": 2
}
